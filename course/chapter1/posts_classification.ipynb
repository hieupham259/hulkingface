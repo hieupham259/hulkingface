{
  "cells": [
    {
      "cell_type": "markdown",
      "metadata": {
        "id": "fHiJi8NJUHIA"
      },
      "source": [
        "<a href=\"https://colab.research.google.com/github/hieupham259/hulkingface/blob/master/course/chapter1/posts_classification.ipynb\" target=\"_parent\"><img src=\"https://colab.research.google.com/assets/colab-badge.svg\" alt=\"Open In Colab\"/></a>"
      ]
    },
    {
      "cell_type": "code",
      "execution_count": null,
      "metadata": {
        "vscode": {
          "languageId": "plaintext"
        },
        "collapsed": true,
        "id": "6wyMj7aYUHIB"
      },
      "outputs": [],
      "source": [
        "!pip install datasets evaluate transformers[sentencepiece]"
      ]
    },
    {
      "cell_type": "code",
      "execution_count": 3,
      "metadata": {
        "vscode": {
          "languageId": "plaintext"
        },
        "colab": {
          "base_uri": "https://localhost:8080/"
        },
        "id": "bHpmBmt-UHIC",
        "outputId": "bb7899d9-58c4-478a-91b0-2ffd70bf50a6"
      },
      "outputs": [
        {
          "output_type": "stream",
          "name": "stderr",
          "text": [
            "No model was supplied, defaulted to facebook/bart-large-mnli and revision d7645e1 (https://huggingface.co/facebook/bart-large-mnli).\n",
            "Using a pipeline without specifying a model name and revision in production is not recommended.\n",
            "Device set to use cpu\n"
          ]
        }
      ],
      "source": [
        "from transformers import pipeline\n",
        "\n",
        "candidate_labels=[\"football\", \"music\", \"film\"]\n",
        "\n",
        "classifier = pipeline(\"zero-shot-classification\")"
      ]
    },
    {
      "cell_type": "code",
      "source": [
        "posts = [\n",
        "    \"Đội tuyển Pháp đã giành chiến thắng 2-1 trước Bồ Đào Nha trong trận bán kết kịch tính diễn ra rạng sáng nay. Kylian Mbappé tỏa sáng với một bàn thắng và một pha kiến tạo đẳng cấp. Trận đấu diễn ra căng thẳng đến phút cuối cùng với nhiều cơ hội bị bỏ lỡ từ cả hai phía. Với chiến thắng này, Pháp chính thức góp mặt trong trận chung kết Euro 2024.\",\n",
        "\n",
        "    \"Ca sĩ Taylor Swift vừa phát hành album mới mang tên 'The Tortured Poets Department' và nhanh chóng chiếm lĩnh các bảng xếp hạng quốc tế. Album bao gồm 16 ca khúc với phong cách pop-folk đặc trưng và những ca từ đầy cảm xúc. Các nhà phê bình đánh giá đây là một trong những sản phẩm âm nhạc xuất sắc nhất của cô trong 5 năm qua. Người hâm mộ toàn cầu đã tổ chức nhiều sự kiện trực tuyến để ăn mừng ngày phát hành.\",\n",
        "\n",
        "    \"Bộ phim hành động 'Mad Max: Furiosa' chính thức ra rạp cuối tuần qua và lập tức đạt doanh thu ấn tượng 150 triệu USD sau ba ngày đầu công chiếu. Diễn xuất của Anya Taylor-Joy được đánh giá cao, mang đến hình ảnh mạnh mẽ và đầy chiều sâu cho nhân vật nữ chính. Đạo diễn George Miller tiếp tục chứng minh tài năng trong việc tạo ra những cảnh quay mãn nhãn và kịch tính. Phim được kỳ vọng sẽ lọt vào danh sách đề cử Oscar năm nay.\"\n",
        "]\n"
      ],
      "metadata": {
        "id": "QmyGFirqVKPE"
      },
      "execution_count": 4,
      "outputs": []
    },
    {
      "cell_type": "code",
      "source": [
        "for post in posts:\n",
        "  result = classifier(\n",
        "    post,\n",
        "    candidate_labels=candidate_labels\n",
        "  )\n",
        "  print(result['labels'], result['scores'], '\\n')"
      ],
      "metadata": {
        "colab": {
          "base_uri": "https://localhost:8080/"
        },
        "id": "r6iTfMVHVerZ",
        "outputId": "ca3d0e31-211a-4590-8e73-0671a330af17"
      },
      "execution_count": 7,
      "outputs": [
        {
          "output_type": "stream",
          "name": "stdout",
          "text": [
            "['football', 'film', 'music'] [0.4154958128929138, 0.2998475432395935, 0.2846566438674927] \n",
            "\n",
            "['music', 'film', 'football'] [0.9244813323020935, 0.04944612830877304, 0.026072436943650246] \n",
            "\n",
            "['film', 'music', 'football'] [0.9283063411712646, 0.0549471452832222, 0.01674647070467472] \n",
            "\n"
          ]
        }
      ]
    },
    {
      "cell_type": "code",
      "source": [
        "!pip install -U datasets"
      ],
      "metadata": {
        "id": "qHsFpiAMZzKW"
      },
      "execution_count": null,
      "outputs": []
    },
    {
      "cell_type": "code",
      "source": [
        "help(pipeline(\"zero-shot-image-classification\"))"
      ],
      "metadata": {
        "id": "N48jgoCAgLne"
      },
      "execution_count": null,
      "outputs": []
    },
    {
      "cell_type": "code",
      "source": [
        "# movie classification genres by thumbnail\n",
        "import requests\n",
        "from PIL import Image\n",
        "from transformers import pipeline\n",
        "\n",
        "image_classifier = pipeline(\n",
        "  task=\"zero-shot-image-classification\",\n",
        "  model=\"openai/clip-vit-base-patch32\"\n",
        ")\n",
        "\n",
        "text=[\"sex\", \"detective\", \"comedy\"]\n",
        "url = \"https://img.nangcuc.cc/cdn-cgi/image/fit=scale-down,width=500,height=300,quality=80,format=webp/video/6UH7C2sYExov/cover/nc-0347-7gsggkd47qyg.jpg\"\n",
        "image = Image.open(requests.get(url, stream=True).raw)\n",
        "\n",
        "result = image_classifier(\n",
        "  candidate_labels=text,\n",
        "  image=image\n",
        ")\n",
        "print(result)"
      ],
      "metadata": {
        "id": "aLuPRC_3atbH",
        "outputId": "bd9dae26-5c60-4be2-b800-a008624778df",
        "colab": {
          "base_uri": "https://localhost:8080/"
        }
      },
      "execution_count": 12,
      "outputs": [
        {
          "output_type": "stream",
          "name": "stderr",
          "text": [
            "Device set to use cpu\n"
          ]
        },
        {
          "output_type": "stream",
          "name": "stdout",
          "text": [
            "[{'score': 0.9819746613502502, 'label': 'sex'}, {'score': 0.016314592212438583, 'label': 'comedy'}, {'score': 0.0017107584280893207, 'label': 'detective'}]\n"
          ]
        }
      ]
    }
  ],
  "metadata": {
    "language_info": {
      "name": "python"
    },
    "colab": {
      "provenance": []
    },
    "kernelspec": {
      "name": "python3",
      "display_name": "Python 3"
    }
  },
  "nbformat": 4,
  "nbformat_minor": 0
}